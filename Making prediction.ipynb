{
 "cells": [
  {
   "cell_type": "markdown",
   "id": "7ff4e23e",
   "metadata": {},
   "source": []
  },
  {
   "cell_type": "code",
   "execution_count": 2,
   "id": "cc9092a7",
   "metadata": {},
   "outputs": [
    {
     "data": {
      "text/plain": [
       "array([211511.97887967])"
      ]
     },
     "execution_count": 2,
     "metadata": {},
     "output_type": "execute_result"
    }
   ],
   "source": [
    "# load model\n",
    "import pickle\n",
    "loaded_model = pickle.load(open('C:\\\\Users\\\\rahma\\\\OneDrive\\\\Desktop\\\\Bootcamp\\\\Section 7 - Supervised Machine learning\\\\models/trained_pipe_knn.sav', 'rb'))\n",
    " \n",
    "# new house with fake data\n",
    "import pandas as pd\n",
    "new_house = pd.DataFrame({\n",
    "    'LotArea':[9000],\n",
    "    'TotalBsmtSF':[1000], \n",
    "    'BedroomAbvGr':[5], \n",
    "    'GarageCars':[4]\n",
    "})\n",
    " \n",
    "# prediction\n",
    "loaded_model.predict(new_house)"
   ]
  },
  {
   "cell_type": "code",
   "execution_count": null,
   "id": "21cf22de",
   "metadata": {},
   "outputs": [],
   "source": []
  }
 ],
 "metadata": {
  "kernelspec": {
   "display_name": "Python 3 (ipykernel)",
   "language": "python",
   "name": "python3"
  },
  "language_info": {
   "codemirror_mode": {
    "name": "ipython",
    "version": 3
   },
   "file_extension": ".py",
   "mimetype": "text/x-python",
   "name": "python",
   "nbconvert_exporter": "python",
   "pygments_lexer": "ipython3",
   "version": "3.9.13"
  }
 },
 "nbformat": 4,
 "nbformat_minor": 5
}

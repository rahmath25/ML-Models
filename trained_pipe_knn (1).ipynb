{
 "cells": [
  {
   "cell_type": "code",
   "execution_count": 12,
   "metadata": {
    "id": "KL865lYQjbdt"
   },
   "outputs": [],
   "source": [
    "# reading\n",
    "import pandas as pd\n",
    "housing = pd.read_csv('housing-deployment-reg.csv')"
   ]
  },
  {
   "cell_type": "code",
   "execution_count": 13,
   "metadata": {},
   "outputs": [
    {
     "data": {
      "text/html": [
       "<div>\n",
       "<style scoped>\n",
       "    .dataframe tbody tr th:only-of-type {\n",
       "        vertical-align: middle;\n",
       "    }\n",
       "\n",
       "    .dataframe tbody tr th {\n",
       "        vertical-align: top;\n",
       "    }\n",
       "\n",
       "    .dataframe thead th {\n",
       "        text-align: right;\n",
       "    }\n",
       "</style>\n",
       "<table border=\"1\" class=\"dataframe\">\n",
       "  <thead>\n",
       "    <tr style=\"text-align: right;\">\n",
       "      <th></th>\n",
       "      <th>LotArea</th>\n",
       "      <th>TotalBsmtSF</th>\n",
       "      <th>BedroomAbvGr</th>\n",
       "      <th>GarageCars</th>\n",
       "      <th>SalePrice</th>\n",
       "    </tr>\n",
       "  </thead>\n",
       "  <tbody>\n",
       "    <tr>\n",
       "      <th>0</th>\n",
       "      <td>8450</td>\n",
       "      <td>856</td>\n",
       "      <td>3</td>\n",
       "      <td>2</td>\n",
       "      <td>208500</td>\n",
       "    </tr>\n",
       "    <tr>\n",
       "      <th>1</th>\n",
       "      <td>9600</td>\n",
       "      <td>1262</td>\n",
       "      <td>3</td>\n",
       "      <td>2</td>\n",
       "      <td>181500</td>\n",
       "    </tr>\n",
       "    <tr>\n",
       "      <th>2</th>\n",
       "      <td>11250</td>\n",
       "      <td>920</td>\n",
       "      <td>3</td>\n",
       "      <td>2</td>\n",
       "      <td>223500</td>\n",
       "    </tr>\n",
       "    <tr>\n",
       "      <th>3</th>\n",
       "      <td>9550</td>\n",
       "      <td>756</td>\n",
       "      <td>3</td>\n",
       "      <td>3</td>\n",
       "      <td>140000</td>\n",
       "    </tr>\n",
       "    <tr>\n",
       "      <th>4</th>\n",
       "      <td>14260</td>\n",
       "      <td>1145</td>\n",
       "      <td>4</td>\n",
       "      <td>3</td>\n",
       "      <td>250000</td>\n",
       "    </tr>\n",
       "  </tbody>\n",
       "</table>\n",
       "</div>"
      ],
      "text/plain": [
       "   LotArea  TotalBsmtSF  BedroomAbvGr  GarageCars  SalePrice\n",
       "0     8450          856             3           2     208500\n",
       "1     9600         1262             3           2     181500\n",
       "2    11250          920             3           2     223500\n",
       "3     9550          756             3           3     140000\n",
       "4    14260         1145             4           3     250000"
      ]
     },
     "execution_count": 13,
     "metadata": {},
     "output_type": "execute_result"
    }
   ],
   "source": [
    "housing.head()"
   ]
  },
  {
   "cell_type": "code",
   "execution_count": 15,
   "metadata": {
    "colab": {
     "base_uri": "https://localhost:8080/"
    },
    "id": "1yITg76yjFA1",
    "outputId": "a3dffbba-b152-48a2-b832-cf87417d70c4"
   },
   "outputs": [
    {
     "name": "stdout",
     "output_type": "stream",
     "text": [
      "0.7223140457388908\n"
     ]
    }
   ],
   "source": [
    "\n",
    "# train test split\n",
    "from sklearn.model_selection import train_test_split\n",
    "X = housing.drop(columns='SalePrice')\n",
    "y = housing[\"SalePrice\"]\n",
    "X_train, X_test, y_train, y_test = train_test_split(X, y, test_size=0.15, random_state=8)\n",
    " \n",
    "# pipeline\n",
    "from sklearn.pipeline import make_pipeline\n",
    "from sklearn.impute import SimpleImputer\n",
    "from sklearn.preprocessing import StandardScaler\n",
    "from sklearn.neighbors import KNeighborsRegressor\n",
    "pipe = make_pipeline(\n",
    "        SimpleImputer(strategy='median'),\n",
    "        StandardScaler(),\n",
    "        KNeighborsRegressor())\n",
    " \n",
    "# parameter grid for pipeline\n",
    "pipe_params = {\n",
    "    'simpleimputer__strategy':['median', 'mean'],\n",
    "    'standardscaler__with_mean':[True, False],\n",
    "    'kneighborsregressor__n_neighbors': list(range(1, 20)),\n",
    "    'kneighborsregressor__weights': ['uniform', 'distance'],\n",
    "    'kneighborsregressor__p': [1, 2],\n",
    "    'kneighborsregressor__algorithm': ['ball_tree', 'kd_tree', 'brute']}\n",
    " \n",
    "# grid search\n",
    "from sklearn.model_selection import GridSearchCV\n",
    "trained_pipe = GridSearchCV(pipe,\n",
    "                            pipe_params, \n",
    "                            cv = 5)\n",
    "trained_pipe.fit(X_train, y_train)\n",
    " \n",
    "# test accuracy on the test set\n",
    "from sklearn.metrics import r2_score\n",
    " \n",
    "y_pred = trained_pipe.predict(X_test)\n",
    " \n",
    "r2 = r2_score(y_test, y_pred)\n",
    "print(r2)"
   ]
  },
  {
   "cell_type": "code",
   "execution_count": 21,
   "metadata": {
    "colab": {
     "base_uri": "https://localhost:8080/",
     "height": 217
    },
    "id": "D4hfyABltjrf",
    "outputId": "6957c578-1fdc-41aa-ed51-e45e1dd143af"
   },
   "outputs": [],
   "source": [
    "# store the trained pipeline\n",
    "import pickle\n",
    "pickle.dump(trained_pipe, \n",
    "            open(file='C:\\\\Users\\\\rahma\\\\OneDrive\\\\Desktop\\\\Bootcamp\\\\Section 7 - Supervised Machine learning\\\\models/trained_pipe_knn.sav', \n",
    "                 mode='wb'))"
   ]
  },
  {
   "cell_type": "code",
   "execution_count": null,
   "metadata": {},
   "outputs": [],
   "source": []
  }
 ],
 "metadata": {
  "colab": {
   "provenance": []
  },
  "kernelspec": {
   "display_name": "Python 3 (ipykernel)",
   "language": "python",
   "name": "python3"
  },
  "language_info": {
   "codemirror_mode": {
    "name": "ipython",
    "version": 3
   },
   "file_extension": ".py",
   "mimetype": "text/x-python",
   "name": "python",
   "nbconvert_exporter": "python",
   "pygments_lexer": "ipython3",
   "version": "3.9.13"
  }
 },
 "nbformat": 4,
 "nbformat_minor": 1
}
